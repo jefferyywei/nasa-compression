{
 "cells": [
  {
   "cell_type": "code",
   "execution_count": 4,
   "metadata": {},
   "outputs": [
    {
     "name": "stdout",
     "output_type": "stream",
     "text": [
      "Requirement already satisfied: netCDF4 in /opt/anaconda3/lib/python3.12/site-packages (1.7.1.post2)\n",
      "Requirement already satisfied: cftime in /opt/anaconda3/lib/python3.12/site-packages (from netCDF4) (1.6.4)\n",
      "Requirement already satisfied: certifi in /opt/anaconda3/lib/python3.12/site-packages (from netCDF4) (2024.6.2)\n",
      "Requirement already satisfied: numpy in /opt/anaconda3/lib/python3.12/site-packages (from netCDF4) (1.26.4)\n",
      "Note: you may need to restart the kernel to use updated packages.\n",
      "Requirement already satisfied: zstandard in /opt/anaconda3/lib/python3.12/site-packages (0.22.0)\n",
      "Note: you may need to restart the kernel to use updated packages.\n"
     ]
    }
   ],
   "source": [
    "%pip install netCDF4\n",
    "%pip install zstandard"
   ]
  },
  {
   "cell_type": "code",
   "execution_count": 14,
   "metadata": {},
   "outputs": [],
   "source": [
    "import os\n",
    "from netCDF4 import Dataset\n",
    "import zstandard as zstd\n",
    "import json"
   ]
  },
  {
   "cell_type": "code",
   "execution_count": 15,
   "metadata": {},
   "outputs": [],
   "source": [
    "def read_file_with_var(read_file_name, var_name):\n",
    "    data = Dataset(\"data/\" + read_file_name)\n",
    "\n",
    "    var = data.variables[var_name]\n",
    "    var_data = var[:]\n",
    "\n",
    "    output = var_data.tobytes()\n",
    "\n",
    "    write_path = \"data/output/\" + read_file_name + \"_\" + var_name + \".bin\"\n",
    "    os.makedirs(os.path.dirname(write_path), exist_ok=True)\n",
    "\n",
    "    with open(write_path, \"wb\") as file:\n",
    "        file.write(output)\n",
    "        print(f\"File written to {write_path}\")\n",
    "\n",
    "    data.close()"
   ]
  },
  {
   "cell_type": "code",
   "execution_count": 16,
   "metadata": {},
   "outputs": [],
   "source": [
    "def zstd_compress(file_name, compressed_file_name):\n",
    "    cctx = zstd.ZstdCompressor()\n",
    "\n",
    "    with open(file_name, \"rb\") as file:\n",
    "        file_data = file.read()\n",
    "    \n",
    "    compressed = cctx.compress(file_data)\n",
    "\n",
    "    os.makedirs(os.path.dirname(compressed_file_name), exist_ok=True)\n",
    "\n",
    "    with open(compressed_file_name, \"wb\") as compressed_file:\n",
    "        compressed_file.write(compressed)\n",
    "        print(f\"File compressed and written to {compressed_file_name}\")"
   ]
  },
  {
   "cell_type": "code",
   "execution_count": 17,
   "metadata": {},
   "outputs": [],
   "source": [
    "def get_file_size(file_name):\n",
    "    file_size = os.path.getsize(file_name)\n",
    "    print(f\"Size of {file_name}: {file_size} bytes\")\n",
    "    return file_size"
   ]
  },
  {
   "cell_type": "code",
   "execution_count": 18,
   "metadata": {},
   "outputs": [],
   "source": [
    "def compression_ratio(original_file, compressed_file):\n",
    "    original_size = get_file_size(original_file)\n",
    "    compressed_size = get_file_size(compressed_file)\n",
    "\n",
    "    ratio = original_size / compressed_size\n",
    "    print(f\"Compression ratio: {ratio:.2f}\")\n",
    "    return ratio"
   ]
  },
  {
   "cell_type": "code",
   "execution_count": 25,
   "metadata": {},
   "outputs": [],
   "source": [
    "def compress_all_vars(read_file_name):\n",
    "    data = Dataset(\"data/\" + read_file_name)\n",
    "    compression_ratios = {}\n",
    "\n",
    "    for var_name in data.variables.keys():\n",
    "        file_path = \"data/output/\" + read_file_name + \"_\" + var_name\n",
    "\n",
    "        read_file_with_var(read_file_name, var_name)\n",
    "        zstd_compress(file_path + \".bin\", file_path + \"_compressed.bin\")\n",
    "        compression_ratios[var_name] = compression_ratio(file_path + \".bin\", file_path + \"_compressed.bin\")\n",
    "\n",
    "    data.close()\n",
    "\n",
    "    write_path = \"data/output/ratios/\" + read_file_name + \"_ratios.json\"\n",
    "    os.makedirs(os.path.dirname(write_path), exist_ok=True)\n",
    "    \n",
    "    with open(write_path, \"w\") as outfile:\n",
    "        json.dump(compression_ratios, outfile, indent=4)\n",
    "        print(f\"Compression ratios written to {write_path}\")"
   ]
  },
  {
   "cell_type": "code",
   "execution_count": 26,
   "metadata": {},
   "outputs": [
    {
     "name": "stdout",
     "output_type": "stream",
     "text": [
      "File written to data/output/GEOS.fp.asm.inst1_2d_lfo_Nx.20200303_0000.V01.nc4_lon.bin\n",
      "File compressed and written to data/output/GEOS.fp.asm.inst1_2d_lfo_Nx.20200303_0000.V01.nc4_lon_compressed.bin\n",
      "Size of data/output/GEOS.fp.asm.inst1_2d_lfo_Nx.20200303_0000.V01.nc4_lon.bin: 9216 bytes\n",
      "Size of data/output/GEOS.fp.asm.inst1_2d_lfo_Nx.20200303_0000.V01.nc4_lon_compressed.bin: 1462 bytes\n",
      "Compression ratio: 6.30\n",
      "File written to data/output/GEOS.fp.asm.inst1_2d_lfo_Nx.20200303_0000.V01.nc4_lat.bin\n",
      "File compressed and written to data/output/GEOS.fp.asm.inst1_2d_lfo_Nx.20200303_0000.V01.nc4_lat_compressed.bin\n",
      "Size of data/output/GEOS.fp.asm.inst1_2d_lfo_Nx.20200303_0000.V01.nc4_lat.bin: 5768 bytes\n",
      "Size of data/output/GEOS.fp.asm.inst1_2d_lfo_Nx.20200303_0000.V01.nc4_lat_compressed.bin: 724 bytes\n",
      "Compression ratio: 7.97\n",
      "File written to data/output/GEOS.fp.asm.inst1_2d_lfo_Nx.20200303_0000.V01.nc4_time.bin\n",
      "File compressed and written to data/output/GEOS.fp.asm.inst1_2d_lfo_Nx.20200303_0000.V01.nc4_time_compressed.bin\n",
      "Size of data/output/GEOS.fp.asm.inst1_2d_lfo_Nx.20200303_0000.V01.nc4_time.bin: 4 bytes\n",
      "Size of data/output/GEOS.fp.asm.inst1_2d_lfo_Nx.20200303_0000.V01.nc4_time_compressed.bin: 13 bytes\n",
      "Compression ratio: 0.31\n",
      "File written to data/output/GEOS.fp.asm.inst1_2d_lfo_Nx.20200303_0000.V01.nc4_HLML.bin\n",
      "File compressed and written to data/output/GEOS.fp.asm.inst1_2d_lfo_Nx.20200303_0000.V01.nc4_HLML_compressed.bin\n",
      "Size of data/output/GEOS.fp.asm.inst1_2d_lfo_Nx.20200303_0000.V01.nc4_HLML.bin: 3322368 bytes\n",
      "Size of data/output/GEOS.fp.asm.inst1_2d_lfo_Nx.20200303_0000.V01.nc4_HLML_compressed.bin: 2569434 bytes\n",
      "Compression ratio: 1.29\n",
      "File written to data/output/GEOS.fp.asm.inst1_2d_lfo_Nx.20200303_0000.V01.nc4_PS.bin\n",
      "File compressed and written to data/output/GEOS.fp.asm.inst1_2d_lfo_Nx.20200303_0000.V01.nc4_PS_compressed.bin\n",
      "Size of data/output/GEOS.fp.asm.inst1_2d_lfo_Nx.20200303_0000.V01.nc4_PS.bin: 3322368 bytes\n",
      "Size of data/output/GEOS.fp.asm.inst1_2d_lfo_Nx.20200303_0000.V01.nc4_PS_compressed.bin: 2548793 bytes\n",
      "Compression ratio: 1.30\n",
      "File written to data/output/GEOS.fp.asm.inst1_2d_lfo_Nx.20200303_0000.V01.nc4_QLML.bin\n",
      "File compressed and written to data/output/GEOS.fp.asm.inst1_2d_lfo_Nx.20200303_0000.V01.nc4_QLML_compressed.bin\n",
      "Size of data/output/GEOS.fp.asm.inst1_2d_lfo_Nx.20200303_0000.V01.nc4_QLML.bin: 3322368 bytes\n",
      "Size of data/output/GEOS.fp.asm.inst1_2d_lfo_Nx.20200303_0000.V01.nc4_QLML_compressed.bin: 2879632 bytes\n",
      "Compression ratio: 1.15\n",
      "File written to data/output/GEOS.fp.asm.inst1_2d_lfo_Nx.20200303_0000.V01.nc4_SPEEDLML.bin\n",
      "File compressed and written to data/output/GEOS.fp.asm.inst1_2d_lfo_Nx.20200303_0000.V01.nc4_SPEEDLML_compressed.bin\n",
      "Size of data/output/GEOS.fp.asm.inst1_2d_lfo_Nx.20200303_0000.V01.nc4_SPEEDLML.bin: 3322368 bytes\n",
      "Size of data/output/GEOS.fp.asm.inst1_2d_lfo_Nx.20200303_0000.V01.nc4_SPEEDLML_compressed.bin: 2935545 bytes\n",
      "Compression ratio: 1.13\n",
      "File written to data/output/GEOS.fp.asm.inst1_2d_lfo_Nx.20200303_0000.V01.nc4_TLML.bin\n",
      "File compressed and written to data/output/GEOS.fp.asm.inst1_2d_lfo_Nx.20200303_0000.V01.nc4_TLML_compressed.bin\n",
      "Size of data/output/GEOS.fp.asm.inst1_2d_lfo_Nx.20200303_0000.V01.nc4_TLML.bin: 3322368 bytes\n",
      "Size of data/output/GEOS.fp.asm.inst1_2d_lfo_Nx.20200303_0000.V01.nc4_TLML_compressed.bin: 2542380 bytes\n",
      "Compression ratio: 1.31\n",
      "File written to data/output/GEOS.fp.asm.inst1_2d_lfo_Nx.20200303_0000.V01.nc4_TAITIME.bin\n",
      "File compressed and written to data/output/GEOS.fp.asm.inst1_2d_lfo_Nx.20200303_0000.V01.nc4_TAITIME_compressed.bin\n",
      "Size of data/output/GEOS.fp.asm.inst1_2d_lfo_Nx.20200303_0000.V01.nc4_TAITIME.bin: 8 bytes\n",
      "Size of data/output/GEOS.fp.asm.inst1_2d_lfo_Nx.20200303_0000.V01.nc4_TAITIME_compressed.bin: 17 bytes\n",
      "Compression ratio: 0.47\n",
      "Compression ratios written to data/output/ratios/GEOS.fp.asm.inst1_2d_lfo_Nx.20200303_0000.V01.nc4_ratios.json\n"
     ]
    }
   ],
   "source": [
    "compress_all_vars(\"GEOS.fp.asm.inst1_2d_lfo_Nx.20200303_0000.V01.nc4\")"
   ]
  },
  {
   "cell_type": "code",
   "execution_count": null,
   "metadata": {},
   "outputs": [],
   "source": []
  }
 ],
 "metadata": {
  "kernelspec": {
   "display_name": "Python 3",
   "language": "python",
   "name": "python3"
  },
  "language_info": {
   "codemirror_mode": {
    "name": "ipython",
    "version": 3
   },
   "file_extension": ".py",
   "mimetype": "text/x-python",
   "name": "python",
   "nbconvert_exporter": "python",
   "pygments_lexer": "ipython3",
   "version": "3.12.4"
  }
 },
 "nbformat": 4,
 "nbformat_minor": 2
}
